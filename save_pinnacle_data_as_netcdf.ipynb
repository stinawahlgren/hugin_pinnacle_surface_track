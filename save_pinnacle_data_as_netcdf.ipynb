{
 "cells": [
  {
   "cell_type": "markdown",
   "id": "bc496345",
   "metadata": {},
   "source": [
    "Reads mat-file created by Pinnacles Utilities and saves as netcdf."
   ]
  },
  {
   "cell_type": "code",
   "execution_count": null,
   "id": "53037b61",
   "metadata": {},
   "outputs": [],
   "source": [
    "import numpy as np\n",
    "import xarray as xr\n",
    "\n",
    "from scipy.io import loadmat\n",
    "from datetime import datetime\n",
    "from pathlib import Path"
   ]
  },
  {
   "cell_type": "code",
   "execution_count": null,
   "id": "6d918fe2",
   "metadata": {},
   "outputs": [],
   "source": [
    "matfile = \n",
    "\n",
    "savefile = Path(matfile).with_suffix('.nc')\n",
    "\n",
    "print(f'Will convert {matfile} and save as {savefile}')"
   ]
  },
  {
   "cell_type": "code",
   "execution_count": null,
   "id": "ad8607db",
   "metadata": {},
   "outputs": [],
   "source": [
    "# Load matlab struct as a nested list of dicts\n",
    "data_nl = loadmat(matfile, simplify_cells = True)\n",
    "data_nl"
   ]
  },
  {
   "cell_type": "code",
   "execution_count": null,
   "id": "918df3e0",
   "metadata": {},
   "outputs": [],
   "source": [
    "# Arrange data variables (and add dimensions)\n",
    "info = {}\n",
    "data= {}\n",
    "\n",
    "for key in data_nl.keys():\n",
    "    if key[:3]=='RDI':\n",
    "        info[key] = data_nl[key]\n",
    "    \n",
    "    elif len(data_nl[key].shape) == 1:\n",
    "        if key[:3] != 'Ser': # 1d ser-data is related to timestamp and coordinates, and will be treated separately\n",
    "            data[key] = (('time'), data_nl[key])\n",
    "           \n",
    "    elif len(data_nl[key].shape) == 2:\n",
    "        data[key] = (('time','range'), data_nl[key])\n",
    "info"
   ]
  },
  {
   "cell_type": "code",
   "execution_count": null,
   "id": "b8f1fb52",
   "metadata": {},
   "outputs": [],
   "source": [
    "# Extract time coordinate\n",
    "Time = []\n",
    "for i in range(data_nl['SerYear'].shape[0]):\n",
    "    \n",
    "    d = datetime(2000 + data_nl['SerYear'][i],\n",
    "                 data_nl['SerMon'][i],\n",
    "                 data_nl['SerDay'][i],\n",
    "                 data_nl['SerHour'][i],\n",
    "                 data_nl['SerMin'][i],\n",
    "                 data_nl['SerSec'][i],\n",
    "                 data_nl['SerHund'][i]*10000) \n",
    "    Time.append(np.datetime64(d))"
   ]
  },
  {
   "cell_type": "code",
   "execution_count": null,
   "id": "4a52ec58",
   "metadata": {},
   "outputs": [],
   "source": [
    "# Range coordinate\n",
    "number_of_cells = data_nl['SerEA1cnt'].shape[1]\n",
    "range_bins = info['RDIBin1Mid'] + np.array(list(range(number_of_cells)))*info['RDIBinSize']"
   ]
  },
  {
   "cell_type": "code",
   "execution_count": null,
   "id": "40cd033b",
   "metadata": {},
   "outputs": [],
   "source": [
    "# Create xarray dataset\n",
    "ds = xr.Dataset(data, coords={'time': Time, 'range': range_bins}, attrs = info)\n",
    "ds"
   ]
  },
  {
   "cell_type": "code",
   "execution_count": null,
   "id": "8a014b04",
   "metadata": {},
   "outputs": [],
   "source": [
    "# Save as netcdf\n",
    "ds.to_netcdf(savefile)"
   ]
  }
 ],
 "metadata": {
  "kernelspec": {
   "display_name": "Python 3 (ipykernel)",
   "language": "python",
   "name": "python3"
  },
  "language_info": {
   "codemirror_mode": {
    "name": "ipython",
    "version": 3
   },
   "file_extension": ".py",
   "mimetype": "text/x-python",
   "name": "python",
   "nbconvert_exporter": "python",
   "pygments_lexer": "ipython3",
   "version": "3.10.10"
  }
 },
 "nbformat": 4,
 "nbformat_minor": 5
}
