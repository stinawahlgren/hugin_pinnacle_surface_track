{
 "cells": [
  {
   "cell_type": "markdown",
   "id": "a3c1acfc",
   "metadata": {},
   "source": [
    "# Surface track from pinnacle ADCP\n",
    "This script will produce a csv file with surface track derived from long range ADCP togehether with supporting figures."
   ]
  },
  {
   "cell_type": "code",
   "execution_count": null,
   "id": "b5e3a2b5",
   "metadata": {},
   "outputs": [],
   "source": [
    "import numpy as np\n",
    "import xarray as xr\n",
    "import matplotlib.pyplot as plt\n",
    "import cmocean.cm as cmo\n",
    "from cartopy.crs import SouthPolarStereo, PlateCarree\n",
    "from pathlib import Path\n",
    "\n",
    "from hugin import read_hugin_nav, add_AUV_nav\n",
    "from pinnacle import find_surface_level\n",
    "from plots import pcolormesh_offset"
   ]
  },
  {
   "cell_type": "code",
   "execution_count": null,
   "id": "e88ceb37",
   "metadata": {},
   "outputs": [],
   "source": [
    "cmap = cmo.tempo"
   ]
  },
  {
   "cell_type": "markdown",
   "id": "6c3fcfcd",
   "metadata": {},
   "source": [
    "## Load and combine pinnacle and auv data"
   ]
  },
  {
   "cell_type": "code",
   "execution_count": null,
   "id": "9898e446",
   "metadata": {},
   "outputs": [],
   "source": [
    "mission = 'NBP22_04'\n",
    "\n",
    "if mission == 'ANA14B_01':\n",
    "    ADCP_file = '../../data/ANA14B/ANA14B_01.nc'\n",
    "    AUV_mission_folder = '../../data/ANA14B/ANA14B_01'\n",
    "    \n",
    "elif mission == 'NBP22_02':\n",
    "    ADCP_file = '../../data/NBP22/NBP22_AUV2.nc'\n",
    "    AUV_mission_folder = '../../data/NBP22/NBP2202_02'\n",
    "\n",
    "elif mission == 'NBP22_03':\n",
    "    ADCP_file = '../../data/NBP22/NBP22_AUV3.nc'\n",
    "    AUV_mission_folder = '../../data/NBP22/NBP2202_03'\n",
    "        \n",
    "elif mission == 'NBP22_04':\n",
    "    ADCP_file = '../../data/NBP22/NBP22_AUV4.nc'\n",
    "    AUV_mission_folder = '../../data/NBP22/NBP2202_04'\n",
    "    \n",
    "save_folder = f\"{mission}__surface_track/\""
   ]
  },
  {
   "cell_type": "code",
   "execution_count": null,
   "id": "f734c017",
   "metadata": {
    "scrolled": false
   },
   "outputs": [],
   "source": [
    "ds = xr.open_dataset(ADCP_file)\n",
    "ds"
   ]
  },
  {
   "cell_type": "code",
   "execution_count": null,
   "id": "520dacc5",
   "metadata": {},
   "outputs": [],
   "source": [
    "nav = read_hugin_nav(AUV_mission_folder)\n",
    "nav"
   ]
  },
  {
   "cell_type": "code",
   "execution_count": null,
   "id": "bd78b3a1",
   "metadata": {},
   "outputs": [],
   "source": [
    "ds = add_AUV_nav(ds, nav, debug_plots=False)"
   ]
  },
  {
   "cell_type": "code",
   "execution_count": null,
   "id": "7fc7bee4",
   "metadata": {},
   "outputs": [],
   "source": [
    "ds.SerEAAcnt.T.plot(cmap=cmap, vmax=140, figsize=(10,5))\n",
    "plt.title('Raw data')\n",
    "plt.show() "
   ]
  },
  {
   "cell_type": "markdown",
   "id": "dce26585",
   "metadata": {},
   "source": [
    "## Remove bad data"
   ]
  },
  {
   "cell_type": "code",
   "execution_count": null,
   "id": "a81961f6",
   "metadata": {},
   "outputs": [],
   "source": [
    "amp_threshold = 140\n",
    "percentage_threshold = 0.25\n",
    "pitch_threshold__100thDeg = 700\n",
    "roll_threshold__100thDeg = 700\n",
    "depth_threshold = 5"
   ]
  },
  {
   "cell_type": "code",
   "execution_count": null,
   "id": "6027d2c5",
   "metadata": {},
   "outputs": [],
   "source": [
    "ds.SerEAAcnt.plot.hist(bins=50);\n",
    "plt.title('Amplitude')\n",
    "plt.show()\n",
    "\n",
    "ds.AnP100thDeg.plot.hist(bins=100)\n",
    "plt.title('Pinnacle pitch')\n",
    "plt.show()\n",
    "\n",
    "ds.AnR100thDeg.plot.hist(bins=100)\n",
    "plt.title('Pinnacle roll')\n",
    "plt.show()"
   ]
  },
  {
   "cell_type": "code",
   "execution_count": null,
   "id": "f8919eac",
   "metadata": {},
   "outputs": [],
   "source": [
    "above_threshold = ds.SerEAAcnt > amp_threshold\n",
    "ping_ok = above_threshold.sum(dim='range') < ds.dims['range']/2\n",
    "\n",
    "pitch_ok = abs(ds.AnP100thDeg) < pitch_threshold__100thDeg\n",
    "roll_ok = abs(ds.AnR100thDeg) < roll_threshold__100thDeg\n",
    "\n",
    "depth_ok = ds.NAV_DEPTH > depth_threshold"
   ]
  },
  {
   "cell_type": "code",
   "execution_count": null,
   "id": "736677f7",
   "metadata": {},
   "outputs": [],
   "source": [
    "ds.SerEAAcnt.where(ping_ok & pitch_ok & roll_ok & depth_ok).dropna('time').T.plot(cmap=cmap, vmax=140, figsize=(10,5))\n",
    "plt.title('Cleaned data')\n",
    "plt.show() "
   ]
  },
  {
   "cell_type": "markdown",
   "id": "f8d05c69",
   "metadata": {},
   "source": [
    "## Time average"
   ]
  },
  {
   "cell_type": "code",
   "execution_count": null,
   "id": "81753290",
   "metadata": {},
   "outputs": [],
   "source": [
    "time_factor = 30\n",
    "\n",
    "variables = ['AnP100thDeg',\n",
    "             'AnR100thDeg',\n",
    "             'AnH100thDeg',\n",
    "             'AnT100thDeg',\n",
    "             'AnDepthmm',\n",
    "             'SerEA1cnt',\n",
    "             'SerEA2cnt',\n",
    "             'SerEA3cnt',\n",
    "             'SerEA4cnt',\n",
    "             'SerEAAcnt',\n",
    "             'NAV_DEPTH',\n",
    "             'NAV_LATITUDE',\n",
    "             'NAV_LONGITUDE',]\n",
    "data = ds.where(ping_ok & pitch_ok & roll_ok & depth_ok).coarsen(time=time_factor, boundary='pad').mean()[variables]"
   ]
  },
  {
   "cell_type": "code",
   "execution_count": null,
   "id": "33868ac8",
   "metadata": {},
   "outputs": [],
   "source": [
    "data.SerEAAcnt.dropna('time').T.plot(cmap=cmap, vmax=140, figsize=(10,5))\n",
    "plt.title('Processed data')\n",
    "plt.show() "
   ]
  },
  {
   "cell_type": "markdown",
   "id": "c7334a11",
   "metadata": {},
   "source": [
    "# Detect surface"
   ]
  },
  {
   "cell_type": "code",
   "execution_count": null,
   "id": "ab47836b",
   "metadata": {},
   "outputs": [],
   "source": [
    "mode = 'max++'\n",
    "zmax = 100\n",
    "rmin = 200\n",
    "\n",
    "data = find_surface_level(data, mode=mode, rmin=rmin, zmax=zmax)"
   ]
  },
  {
   "cell_type": "markdown",
   "id": "9aa5f6d4",
   "metadata": {},
   "source": [
    "# Export track"
   ]
  },
  {
   "cell_type": "code",
   "execution_count": null,
   "id": "2d0e5922",
   "metadata": {},
   "outputs": [],
   "source": [
    "Path(save_folder).mkdir(exist_ok=True)\n",
    "\n",
    "variables = ['NAV_DEPTH', 'NAV_LONGITUDE', 'NAV_LATITUDE', 'surface_level', 'distance_to_surface'] \n",
    "df = data[variables].to_pandas().reset_index()\n",
    "df.time = df.time.dt.round('1s') # Round to seconds\n",
    "\n",
    "# Remove rows with nan\n",
    "df = df[~np.isnan(df.surface_level)]\n",
    "\n",
    "df.to_csv(f\"{save_folder}surface_track.csv\", index=False)"
   ]
  },
  {
   "cell_type": "markdown",
   "id": "6506cd3a",
   "metadata": {},
   "source": [
    "# Make figures"
   ]
  },
  {
   "cell_type": "code",
   "execution_count": null,
   "id": "aea46b8f",
   "metadata": {},
   "outputs": [],
   "source": [
    "plt.figure(figsize=(12,10))\n",
    "\n",
    "ax = plt.axes(projection = SouthPolarStereo())\n",
    "sc = ax.scatter(df['NAV_LONGITUDE'],df['NAV_LATITUDE'],c=df['surface_level'],\n",
    "                transform = PlateCarree(), \n",
    "                s=20)\n",
    "    \n",
    "cbar = plt.colorbar(sc, label='surface level (m)', shrink=0.5)\n",
    "\n",
    "# Adjust grid lines\n",
    "gl = ax.gridlines(draw_labels = True, \n",
    "                  #y_inline = False, # force y-axis ticks to be outside the plot\n",
    "                 )\n",
    "gl.bottom_labels = True\n",
    "gl.top_labels    = True\n",
    "gl.left_labels   = True                  \n",
    "gl.right_labels  = True\n",
    "\n",
    "plt.title(\"Surface level detections\")\n",
    "plt.savefig(f\"{save_folder}surface_track_map\")\n",
    "plt.show()"
   ]
  },
  {
   "cell_type": "code",
   "execution_count": null,
   "id": "d16992c6",
   "metadata": {},
   "outputs": [],
   "source": [
    "# Check for time lag:\n",
    "(data.AnDepthmm/1000).plot(label='pinnacle')\n",
    "data.NAV_DEPTH.plot(label='auv',linestyle='dashed')\n",
    "plt.legend()\n",
    "plt.ylabel('depth (m)')\n",
    "plt.gca().invert_yaxis()\n",
    "plt.title('Time lag')\n",
    "\n",
    "plt.savefig(f\"{save_folder}time_lag\")"
   ]
  },
  {
   "cell_type": "code",
   "execution_count": null,
   "id": "51b0044c",
   "metadata": {},
   "outputs": [],
   "source": [
    "plt.figure(figsize=(12,5))\n",
    "pcolormesh_offset(data.time.values, -data.range.values, data.SerEAAcnt.T.values, data.AnDepthmm.values/1000,\n",
    "                  cmap=cmap, vmax=140)\n",
    "plt.gca().invert_yaxis()\n",
    "plt.ylabel('depth (m)')\n",
    "plt.title('Backscatter amplitude')\n",
    "\n",
    "plt.savefig(f\"{save_folder}backscatter\")\n",
    "plt.show()"
   ]
  },
  {
   "cell_type": "code",
   "execution_count": null,
   "id": "250bc71c",
   "metadata": {},
   "outputs": [],
   "source": [
    "plt.figure(figsize=(12,5))\n",
    "pcolormesh_offset(data.time.values, -data.range.values, data.SerEAAcnt.T.values, data.AnDepthmm.values/1000,\n",
    "                  cmap=cmap, vmax=140)\n",
    "plt.gca().invert_yaxis()\n",
    "plt.ylabel('depth (m)')\n",
    "\n",
    "plt.plot(data.time.values, -data.surface_level.values, '.', color='magenta')\n",
    "plt.title('Surface detections')\n",
    "plt.savefig(f\"{save_folder}surface_detections\")\n",
    "plt.show()"
   ]
  },
  {
   "cell_type": "code",
   "execution_count": null,
   "id": "62425032",
   "metadata": {},
   "outputs": [],
   "source": [
    "df.surface_level.plot.hist(bins=100)\n",
    "plt.ylabel('count')\n",
    "plt.xlabel('surface level (m)')\n",
    "plt.grid()\n",
    "plt.title('Surface level histogram')\n",
    "plt.savefig(f\"{save_folder}surface_level_histogram\")"
   ]
  },
  {
   "cell_type": "code",
   "execution_count": null,
   "id": "60ecfc31",
   "metadata": {},
   "outputs": [],
   "source": [
    "parameter_file = f\"{save_folder}parameters.txt\"\n",
    "Path(parameter_file).touch()\n",
    "f = open(f\"{save_folder}parameters.txt\", 'w')\n",
    "f.writelines(f\"ampltiude threshold: {amp_threshold}\\n\" )\n",
    "f.writelines(f\"percentage threshold: {percentage_threshold}\\n\")\n",
    "f.writelines(f\"min depth: {depth_threshold}\\n\")\n",
    "f.writelines(f\"max pinnacle pitch (100th deg): {pitch_threshold__100thDeg}\\n\")\n",
    "f.writelines(f\"max pinnacle roll (100th deg): {roll_threshold__100thDeg}\\n\")\n",
    "f.writelines(f\"surface detection method: {mode}\\n\")\n",
    "f.writelines(f\"zmax: {zmax}\\n\")\n",
    "f.writelines(f\"rmin: {rmin}\\n\")\n",
    "f.close()"
   ]
  }
 ],
 "metadata": {
  "kernelspec": {
   "display_name": "Python 3 (ipykernel)",
   "language": "python",
   "name": "python3"
  },
  "language_info": {
   "codemirror_mode": {
    "name": "ipython",
    "version": 3
   },
   "file_extension": ".py",
   "mimetype": "text/x-python",
   "name": "python",
   "nbconvert_exporter": "python",
   "pygments_lexer": "ipython3",
   "version": "3.10.10"
  }
 },
 "nbformat": 4,
 "nbformat_minor": 5
}
